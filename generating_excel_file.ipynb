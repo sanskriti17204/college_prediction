{
  "nbformat": 4,
  "nbformat_minor": 0,
  "metadata": {
    "colab": {
      "provenance": [],
      "authorship_tag": "ABX9TyMSz1wS2h3QcbEe3KPzKNUP"
    },
    "kernelspec": {
      "name": "python3",
      "display_name": "Python 3"
    },
    "language_info": {
      "name": "python"
    }
  },
  "cells": [
    {
      "cell_type": "code",
      "execution_count": 12,
      "metadata": {
        "id": "hiz6B13yeYnR"
      },
      "outputs": [],
      "source": [
        "import csv\n",
        "import random\n",
        "import string\n",
        "import pandas as pd\n",
        "\n",
        "def generate_name():\n",
        "    name_length = random.randint(5, 10)\n",
        "    return ''.join(random.choices(string.ascii_uppercase, k=name_length))\n",
        "\n",
        "def generate_percentile():\n",
        "    percentile=round(random.uniform(50, 99), 2)\n",
        "    return percentile\n",
        "\n",
        "def generate_combined_percentage():\n",
        "    return round(sum(random.uniform(60, 100) for _ in range(3)) / 3, 2)\n",
        "\n",
        "def generate_category():\n",
        "    category = ['general', 'OBC', 'SC', 'ST']\n",
        "    return random.choice(category)\n",
        "def generate_college():\n",
        "   if percentile>=95:\n",
        "    college= \"IIT/ NIT/ IIIT\"\n",
        "    return (college)\n",
        "   elif  pcm_percent_class12 >=98:\n",
        "    college= \"BITS\"\n",
        "    return (college)\n",
        "   elif percentile>=90 and Category=='OBC' or Category=='SC' or Category=='ST':\n",
        "    college= \"NIT,IIIT,IIT\"\n",
        "    return (college)\n",
        "   else:\n",
        "    text= \"drop/local college\" \n",
        "    return (text)\n",
        "\n",
        "data = []\n",
        "for _ in range(20000):\n",
        "   name = generate_name()\n",
        "   percentile = generate_percentile()\n",
        "   pcm_percent_class12 = generate_combined_percentage()\n",
        "   Category= generate_category()\n",
        "   College= generate_college()\n",
        "   data.append([name, percentile,pcm_percent_class12 , Category, College])\n",
        "\n",
        "df = pd.DataFrame(data, columns=['Name', 'jee_percentile', '12th Percentage', 'Category', 'College'])\n",
        "df.to_excel('jee_data.xlsx', index=False)"
      ]
    }
  ]
}